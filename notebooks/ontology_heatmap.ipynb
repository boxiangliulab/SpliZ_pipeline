{
 "cells": [
  {
   "cell_type": "code",
   "execution_count": 1,
   "metadata": {
    "ExecuteTime": {
     "end_time": "2020-11-08T20:23:24.522848Z",
     "start_time": "2020-11-08T20:23:20.768290Z"
    }
   },
   "outputs": [],
   "source": [
    "import matplotlib\n",
    "import matplotlib.pyplot as plt\n",
    "import pandas as pd\n",
    "import seaborn as sns"
   ]
  },
  {
   "cell_type": "code",
   "execution_count": 2,
   "metadata": {
    "ExecuteTime": {
     "end_time": "2020-11-08T20:23:24.540621Z",
     "start_time": "2020-11-08T20:23:24.536511Z"
    }
   },
   "outputs": [],
   "source": [
    "matplotlib.rcParams.update({'font.size': 16})"
   ]
  },
  {
   "cell_type": "code",
   "execution_count": 3,
   "metadata": {
    "ExecuteTime": {
     "end_time": "2020-11-08T20:23:24.558907Z",
     "start_time": "2020-11-08T20:23:24.551910Z"
    }
   },
   "outputs": [],
   "source": [
    "outpath = \"output/ontology_heatmap/\""
   ]
  },
  {
   "cell_type": "code",
   "execution_count": 4,
   "metadata": {
    "ExecuteTime": {
     "end_time": "2020-11-08T20:23:24.576585Z",
     "start_time": "2020-11-08T20:23:24.569573Z"
    }
   },
   "outputs": [],
   "source": [
    "# def compartment_colors(compartments):\n",
    "\n",
    "#     import matplotlib.colors as pltcolors\n",
    "\n",
    "#     cmap = plt.cm.get_cmap(\"YlOrRd\")\n",
    "\n",
    "#     compartment_color_dict = {}\n",
    "#     j=1/len(compartments)\n",
    "#     for c in compartments:\n",
    "#         compartment_color_dict[c] = pltcolors.to_hex(cmap(j))\n",
    "#         j+=1/len(compartments)\n",
    "\n",
    "#     return compartment_color_dict\n",
    "  \n",
    "def compartment_colors(compartments):\n",
    "  compartment_color_dict = {comp : col for comp, col in zip(compartments,sns.color_palette(\"deep\",len(compartments)))}\n",
    "  return compartment_color_dict"
   ]
  },
  {
   "cell_type": "code",
   "execution_count": 9,
   "metadata": {
    "ExecuteTime": {
     "end_time": "2020-11-08T20:24:55.733840Z",
     "start_time": "2020-11-08T20:24:29.828846Z"
    }
   },
   "outputs": [],
   "source": [
    "dfs = {}\n",
    "datanames = [\"HLCA4_P2_10x_with_postprocessing_lung\",\"HLCA4_P3_10x_with_postprocessing_lung\"]\n",
    "# names = [\"P2\",\"P3\"]\n",
    "names = [\"Ind 1\",\"Ind 2\"]\n",
    "in_path = \"../scripts/output/rijk_zscore/\"\n",
    "for dataname in datanames:\n",
    "  df = pd.read_parquet(\"{}{}_sym_S_0.1_z_0.0_b_5.pq\".format(in_path,dataname),columns=[\"ontology\",\"scZ\",\"cell_gene\",\"cell\",\"geneR1A_uniq\",\"free_annotation\",\"compartment\"])\n",
    "  df = df.drop_duplicates(\"cell_gene\")\n",
    "  df[\"ontology_gene\"] = df[\"ontology\"] + df[\"geneR1A_uniq\"]\n",
    "  df = df[~df[\"ontology_gene\"].isna()]\n",
    "  df[\"mz\"] = df[\"ontology_gene\"].map(df.groupby(\"ontology_gene\")[\"scZ\"].median())\n",
    "  df = df.drop_duplicates(\"ontology_gene\")\n",
    "  dfs[dataname] = df"
   ]
  },
  {
   "cell_type": "code",
   "execution_count": 46,
   "metadata": {
    "ExecuteTime": {
     "end_time": "2020-11-06T17:44:34.696667Z",
     "start_time": "2020-11-06T17:44:34.692513Z"
    }
   },
   "outputs": [],
   "source": [
    "genes = [\"MYL6\",\"RPS24\",\"CD47\"]"
   ]
  },
  {
   "cell_type": "code",
   "execution_count": 47,
   "metadata": {
    "ExecuteTime": {
     "end_time": "2020-11-06T17:44:34.774396Z",
     "start_time": "2020-11-06T17:44:34.745893Z"
    }
   },
   "outputs": [],
   "source": [
    "heat_df = df[df[\"ontology\"].isin(set(dfs[datanames[0]][\"ontology\"]).intersection(set(dfs[datanames[1]][\"ontology\"])))][[\"ontology\",\"compartment\",\"free_annotation\"]].drop_duplicates()"
   ]
  },
  {
   "cell_type": "code",
   "execution_count": 48,
   "metadata": {
    "ExecuteTime": {
     "end_time": "2020-11-06T17:44:34.871126Z",
     "start_time": "2020-11-06T17:44:34.865844Z"
    }
   },
   "outputs": [],
   "source": [
    "heat_df.set_index(\"free_annotation\",drop=True,inplace=True)"
   ]
  },
  {
   "cell_type": "code",
   "execution_count": 49,
   "metadata": {
    "ExecuteTime": {
     "end_time": "2020-11-06T17:44:34.933326Z",
     "start_time": "2020-11-06T17:44:34.919860Z"
    }
   },
   "outputs": [
    {
     "data": {
      "text/html": [
       "<div>\n",
       "<style scoped>\n",
       "    .dataframe tbody tr th:only-of-type {\n",
       "        vertical-align: middle;\n",
       "    }\n",
       "\n",
       "    .dataframe tbody tr th {\n",
       "        vertical-align: top;\n",
       "    }\n",
       "\n",
       "    .dataframe thead th {\n",
       "        text-align: right;\n",
       "    }\n",
       "</style>\n",
       "<table border=\"1\" class=\"dataframe\">\n",
       "  <thead>\n",
       "    <tr style=\"text-align: right;\">\n",
       "      <th></th>\n",
       "      <th>ontology</th>\n",
       "      <th>compartment</th>\n",
       "    </tr>\n",
       "    <tr>\n",
       "      <th>free_annotation</th>\n",
       "      <th></th>\n",
       "      <th></th>\n",
       "    </tr>\n",
       "  </thead>\n",
       "  <tbody>\n",
       "    <tr>\n",
       "      <td>Vascular Smooth Muscle</td>\n",
       "      <td>lungstromalVascular Smooth Muscle</td>\n",
       "      <td>stromal</td>\n",
       "    </tr>\n",
       "    <tr>\n",
       "      <td>Airway Smooth Muscle</td>\n",
       "      <td>lungstromalAirway Smooth Muscle</td>\n",
       "      <td>stromal</td>\n",
       "    </tr>\n",
       "    <tr>\n",
       "      <td>Macrophage</td>\n",
       "      <td>lungimmuneMacrophage</td>\n",
       "      <td>immune</td>\n",
       "    </tr>\n",
       "    <tr>\n",
       "      <td>Myofibroblast</td>\n",
       "      <td>lungstromalMyofibroblast</td>\n",
       "      <td>stromal</td>\n",
       "    </tr>\n",
       "    <tr>\n",
       "      <td>Alveolar Fibroblast</td>\n",
       "      <td>lungstromalAlveolar Fibroblast</td>\n",
       "      <td>stromal</td>\n",
       "    </tr>\n",
       "    <tr>\n",
       "      <td>Pericyte</td>\n",
       "      <td>lungstromalPericyte</td>\n",
       "      <td>stromal</td>\n",
       "    </tr>\n",
       "    <tr>\n",
       "      <td>Capillary Aerocyte</td>\n",
       "      <td>lungendothelialCapillary Aerocyte</td>\n",
       "      <td>endothelial</td>\n",
       "    </tr>\n",
       "    <tr>\n",
       "      <td>Alveolar Epithelial Type 2</td>\n",
       "      <td>lungepithelialAlveolar Epithelial Type 2</td>\n",
       "      <td>epithelial</td>\n",
       "    </tr>\n",
       "    <tr>\n",
       "      <td>Adventitial Fibroblast</td>\n",
       "      <td>lungstromalAdventitial Fibroblast</td>\n",
       "      <td>stromal</td>\n",
       "    </tr>\n",
       "    <tr>\n",
       "      <td>Proliferating Macrophage</td>\n",
       "      <td>lungimmuneProliferating Macrophage</td>\n",
       "      <td>immune</td>\n",
       "    </tr>\n",
       "    <tr>\n",
       "      <td>Myeloid Dendritic Type 2</td>\n",
       "      <td>lungimmuneMyeloid Dendritic Type 2</td>\n",
       "      <td>immune</td>\n",
       "    </tr>\n",
       "    <tr>\n",
       "      <td>Classical Monocyte</td>\n",
       "      <td>lungimmuneClassical Monocyte</td>\n",
       "      <td>immune</td>\n",
       "    </tr>\n",
       "    <tr>\n",
       "      <td>Myeloid Dendritic Type 1</td>\n",
       "      <td>lungimmuneMyeloid Dendritic Type 1</td>\n",
       "      <td>immune</td>\n",
       "    </tr>\n",
       "    <tr>\n",
       "      <td>CD4+ Memory/Effector T</td>\n",
       "      <td>lungimmuneCD4+ Memory/Effector T</td>\n",
       "      <td>immune</td>\n",
       "    </tr>\n",
       "    <tr>\n",
       "      <td>Capillary</td>\n",
       "      <td>lungendothelialCapillary</td>\n",
       "      <td>endothelial</td>\n",
       "    </tr>\n",
       "    <tr>\n",
       "      <td>Alveolar Epithelial Type 1</td>\n",
       "      <td>lungepithelialAlveolar Epithelial Type 1</td>\n",
       "      <td>epithelial</td>\n",
       "    </tr>\n",
       "    <tr>\n",
       "      <td>Vein</td>\n",
       "      <td>lungendothelialVein</td>\n",
       "      <td>endothelial</td>\n",
       "    </tr>\n",
       "    <tr>\n",
       "      <td>Lymphatic</td>\n",
       "      <td>lungendothelialLymphatic</td>\n",
       "      <td>endothelial</td>\n",
       "    </tr>\n",
       "    <tr>\n",
       "      <td>Club</td>\n",
       "      <td>lungepithelialClub</td>\n",
       "      <td>epithelial</td>\n",
       "    </tr>\n",
       "    <tr>\n",
       "      <td>Mucous</td>\n",
       "      <td>lungepithelialMucous</td>\n",
       "      <td>epithelial</td>\n",
       "    </tr>\n",
       "    <tr>\n",
       "      <td>Basal</td>\n",
       "      <td>lungepithelialBasal</td>\n",
       "      <td>epithelial</td>\n",
       "    </tr>\n",
       "    <tr>\n",
       "      <td>Ciliated</td>\n",
       "      <td>lungepithelialCiliated</td>\n",
       "      <td>epithelial</td>\n",
       "    </tr>\n",
       "    <tr>\n",
       "      <td>Artery</td>\n",
       "      <td>lungendothelialArtery</td>\n",
       "      <td>endothelial</td>\n",
       "    </tr>\n",
       "    <tr>\n",
       "      <td>CD4+ Naive T</td>\n",
       "      <td>lungimmuneCD4+ Naive T</td>\n",
       "      <td>immune</td>\n",
       "    </tr>\n",
       "    <tr>\n",
       "      <td>Natural Killer</td>\n",
       "      <td>lungimmuneNatural Killer</td>\n",
       "      <td>immune</td>\n",
       "    </tr>\n",
       "    <tr>\n",
       "      <td>Proliferating NK/T</td>\n",
       "      <td>lungimmuneProliferating NK/T</td>\n",
       "      <td>immune</td>\n",
       "    </tr>\n",
       "    <tr>\n",
       "      <td>CD8+ Naive T</td>\n",
       "      <td>lungimmuneCD8+ Naive T</td>\n",
       "      <td>immune</td>\n",
       "    </tr>\n",
       "    <tr>\n",
       "      <td>B</td>\n",
       "      <td>lungimmuneB</td>\n",
       "      <td>immune</td>\n",
       "    </tr>\n",
       "    <tr>\n",
       "      <td>Plasmacytoid Dendritic</td>\n",
       "      <td>lungimmunePlasmacytoid Dendritic</td>\n",
       "      <td>immune</td>\n",
       "    </tr>\n",
       "    <tr>\n",
       "      <td>Nonclassical Monocyte</td>\n",
       "      <td>lungimmuneNonclassical Monocyte</td>\n",
       "      <td>immune</td>\n",
       "    </tr>\n",
       "    <tr>\n",
       "      <td>CD8+ Memory/Effector T</td>\n",
       "      <td>lungimmuneCD8+ Memory/Effector T</td>\n",
       "      <td>immune</td>\n",
       "    </tr>\n",
       "    <tr>\n",
       "      <td>Basophil/Mast 1</td>\n",
       "      <td>lungimmuneBasophil/Mast 1</td>\n",
       "      <td>immune</td>\n",
       "    </tr>\n",
       "    <tr>\n",
       "      <td>IGSF21+ Dendritic</td>\n",
       "      <td>lungimmuneIGSF21+ Dendritic</td>\n",
       "      <td>immune</td>\n",
       "    </tr>\n",
       "    <tr>\n",
       "      <td>Natural Killer T</td>\n",
       "      <td>lungimmuneNatural Killer T</td>\n",
       "      <td>immune</td>\n",
       "    </tr>\n",
       "  </tbody>\n",
       "</table>\n",
       "</div>"
      ],
      "text/plain": [
       "                                                            ontology  \\\n",
       "free_annotation                                                        \n",
       "Vascular Smooth Muscle             lungstromalVascular Smooth Muscle   \n",
       "Airway Smooth Muscle                 lungstromalAirway Smooth Muscle   \n",
       "Macrophage                                      lungimmuneMacrophage   \n",
       "Myofibroblast                               lungstromalMyofibroblast   \n",
       "Alveolar Fibroblast                   lungstromalAlveolar Fibroblast   \n",
       "Pericyte                                         lungstromalPericyte   \n",
       "Capillary Aerocyte                 lungendothelialCapillary Aerocyte   \n",
       "Alveolar Epithelial Type 2  lungepithelialAlveolar Epithelial Type 2   \n",
       "Adventitial Fibroblast             lungstromalAdventitial Fibroblast   \n",
       "Proliferating Macrophage          lungimmuneProliferating Macrophage   \n",
       "Myeloid Dendritic Type 2          lungimmuneMyeloid Dendritic Type 2   \n",
       "Classical Monocyte                      lungimmuneClassical Monocyte   \n",
       "Myeloid Dendritic Type 1          lungimmuneMyeloid Dendritic Type 1   \n",
       "CD4+ Memory/Effector T              lungimmuneCD4+ Memory/Effector T   \n",
       "Capillary                                   lungendothelialCapillary   \n",
       "Alveolar Epithelial Type 1  lungepithelialAlveolar Epithelial Type 1   \n",
       "Vein                                             lungendothelialVein   \n",
       "Lymphatic                                   lungendothelialLymphatic   \n",
       "Club                                              lungepithelialClub   \n",
       "Mucous                                          lungepithelialMucous   \n",
       "Basal                                            lungepithelialBasal   \n",
       "Ciliated                                      lungepithelialCiliated   \n",
       "Artery                                         lungendothelialArtery   \n",
       "CD4+ Naive T                                  lungimmuneCD4+ Naive T   \n",
       "Natural Killer                              lungimmuneNatural Killer   \n",
       "Proliferating NK/T                      lungimmuneProliferating NK/T   \n",
       "CD8+ Naive T                                  lungimmuneCD8+ Naive T   \n",
       "B                                                        lungimmuneB   \n",
       "Plasmacytoid Dendritic              lungimmunePlasmacytoid Dendritic   \n",
       "Nonclassical Monocyte                lungimmuneNonclassical Monocyte   \n",
       "CD8+ Memory/Effector T              lungimmuneCD8+ Memory/Effector T   \n",
       "Basophil/Mast 1                            lungimmuneBasophil/Mast 1   \n",
       "IGSF21+ Dendritic                        lungimmuneIGSF21+ Dendritic   \n",
       "Natural Killer T                          lungimmuneNatural Killer T   \n",
       "\n",
       "                            compartment  \n",
       "free_annotation                          \n",
       "Vascular Smooth Muscle          stromal  \n",
       "Airway Smooth Muscle            stromal  \n",
       "Macrophage                       immune  \n",
       "Myofibroblast                   stromal  \n",
       "Alveolar Fibroblast             stromal  \n",
       "Pericyte                        stromal  \n",
       "Capillary Aerocyte          endothelial  \n",
       "Alveolar Epithelial Type 2   epithelial  \n",
       "Adventitial Fibroblast          stromal  \n",
       "Proliferating Macrophage         immune  \n",
       "Myeloid Dendritic Type 2         immune  \n",
       "Classical Monocyte               immune  \n",
       "Myeloid Dendritic Type 1         immune  \n",
       "CD4+ Memory/Effector T           immune  \n",
       "Capillary                   endothelial  \n",
       "Alveolar Epithelial Type 1   epithelial  \n",
       "Vein                        endothelial  \n",
       "Lymphatic                   endothelial  \n",
       "Club                         epithelial  \n",
       "Mucous                       epithelial  \n",
       "Basal                        epithelial  \n",
       "Ciliated                     epithelial  \n",
       "Artery                      endothelial  \n",
       "CD4+ Naive T                     immune  \n",
       "Natural Killer                   immune  \n",
       "Proliferating NK/T               immune  \n",
       "CD8+ Naive T                     immune  \n",
       "B                                immune  \n",
       "Plasmacytoid Dendritic           immune  \n",
       "Nonclassical Monocyte            immune  \n",
       "CD8+ Memory/Effector T           immune  \n",
       "Basophil/Mast 1                  immune  \n",
       "IGSF21+ Dendritic                immune  \n",
       "Natural Killer T                 immune  "
      ]
     },
     "execution_count": 49,
     "metadata": {},
     "output_type": "execute_result"
    }
   ],
   "source": [
    "heat_df"
   ]
  },
  {
   "cell_type": "code",
   "execution_count": 50,
   "metadata": {
    "ExecuteTime": {
     "end_time": "2020-11-06T17:44:35.050207Z",
     "start_time": "2020-11-06T17:44:35.022008Z"
    }
   },
   "outputs": [],
   "source": [
    "for gene in genes:\n",
    "  for i in range(len(datanames)):\n",
    "    gene_df = dfs[datanames[i]][dfs[datanames[i]][\"geneR1A_uniq\"] == gene]\n",
    "    mz_dict = pd.Series(gene_df.mz.values,index=gene_df.ontology).to_dict()\n",
    "    heat_df[\"{} {}\".format(gene,names[i])] = heat_df.ontology.map(mz_dict)"
   ]
  },
  {
   "cell_type": "code",
   "execution_count": 51,
   "metadata": {
    "ExecuteTime": {
     "end_time": "2020-11-06T17:44:35.136861Z",
     "start_time": "2020-11-06T17:44:35.130405Z"
    }
   },
   "outputs": [],
   "source": [
    "num_cols = [c for c in heat_df.columns if c not in [\"compartment\",\"ontology\"]]"
   ]
  },
  {
   "cell_type": "code",
   "execution_count": 52,
   "metadata": {
    "ExecuteTime": {
     "end_time": "2020-11-06T17:44:35.240188Z",
     "start_time": "2020-11-06T17:44:35.232981Z"
    }
   },
   "outputs": [
    {
     "data": {
      "text/plain": [
       "1.0787967943965755"
      ]
     },
     "execution_count": 52,
     "metadata": {},
     "output_type": "execute_result"
    }
   ],
   "source": [
    "heat_df[num_cols].dropna().max().max()"
   ]
  },
  {
   "cell_type": "code",
   "execution_count": 53,
   "metadata": {
    "ExecuteTime": {
     "end_time": "2020-11-06T17:44:35.295815Z",
     "start_time": "2020-11-06T17:44:35.288533Z"
    }
   },
   "outputs": [],
   "source": [
    "heat_df = heat_df.sort_values(\"compartment\")"
   ]
  },
  {
   "cell_type": "code",
   "execution_count": 54,
   "metadata": {
    "ExecuteTime": {
     "end_time": "2020-11-06T17:44:35.354390Z",
     "start_time": "2020-11-06T17:44:35.344122Z"
    }
   },
   "outputs": [],
   "source": [
    "compartments = sorted([x for x in list(df[\"compartment\"].unique()) if x != None])\n",
    "\n",
    "palette = compartment_colors(compartments)\n"
   ]
  },
  {
   "cell_type": "code",
   "execution_count": 55,
   "metadata": {
    "ExecuteTime": {
     "end_time": "2020-11-06T17:44:37.012232Z",
     "start_time": "2020-11-06T17:44:35.406016Z"
    }
   },
   "outputs": [
    {
     "data": {
      "image/png": "[encoded data removed]",
      "text/plain": [
       "<Figure size 720x720 with 5 Axes>"
      ]
     },
     "metadata": {
      "needs_background": "light"
     },
     "output_type": "display_data"
    }
   ],
   "source": [
    "cg = sns.clustermap(heat_df[num_cols].dropna(),cmap=\"vlag\",vmin=-heat_df[num_cols].dropna().max().max(),vmax=heat_df[num_cols].dropna().max().max(),row_colors=heat_df[\"compartment\"].map(palette),row_cluster=False,yticklabels=True)\n",
    "cg.ax_row_dendrogram.set_visible(False)\n",
    "cg.ax_col_dendrogram.set_visible(False)\n",
    "plt.savefig(\"{}{}_{}.png\".format(outpath, \"_\".join(datanames),\"_\".join(genes)),bbox_inches=\"tight\")\n",
    "plt.show()"
   ]
  },
  {
   "cell_type": "code",
   "execution_count": null,
   "metadata": {},
   "outputs": [],
   "source": []
  }
 ],
 "metadata": {
  "kernelspec": {
   "display_name": "Python (conda_env)",
   "language": "python",
   "name": "conda_env"
  },
  "language_info": {
   "codemirror_mode": {
    "name": "ipython",
    "version": 3
   },
   "file_extension": ".py",
   "mimetype": "text/x-python",
   "name": "python",
   "nbconvert_exporter": "python",
   "pygments_lexer": "ipython3",
   "version": "3.6.7"
  },
  "varInspector": {
   "cols": {
    "lenName": 16,
    "lenType": 16,
    "lenVar": 40
   },
   "kernels_config": {
    "python": {
     "delete_cmd_postfix": "",
     "delete_cmd_prefix": "del ",
     "library": "var_list.py",
     "varRefreshCmd": "print(var_dic_list())"
    },
    "r": {
     "delete_cmd_postfix": ") ",
     "delete_cmd_prefix": "rm(",
     "library": "var_list.r",
     "varRefreshCmd": "cat(var_dic_list()) "
    }
   },
   "types_to_exclude": [
    "module",
    "function",
    "builtin_function_or_method",
    "instance",
    "_Feature"
   ],
   "window_display": false
  }
 },
 "nbformat": 4,
 "nbformat_minor": 4
}
