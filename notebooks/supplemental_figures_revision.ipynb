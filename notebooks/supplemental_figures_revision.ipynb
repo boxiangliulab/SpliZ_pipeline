{
 "cells": [
  {
   "cell_type": "code",
   "execution_count": 1,
   "metadata": {
    "ExecuteTime": {
     "end_time": "2021-07-10T06:32:15.194472Z",
     "start_time": "2021-07-10T06:32:05.907988Z"
    }
   },
   "outputs": [],
   "source": [
    "from itertools import combinations\n",
    "import matplotlib.pyplot as plt\n",
    "import pandas as pd\n",
    "from tqdm import tqdm\n",
    "import upsetplot\n",
    "\n",
    "import seaborn as sns\n",
    "import matplotlib.pyplot as plt\n",
    "plt.rcParams['pdf.fonttype'] = 42\n",
    "plt.rcParams['ps.fonttype'] = 42"
   ]
  },
  {
   "cell_type": "code",
   "execution_count": 21,
   "metadata": {
    "ExecuteTime": {
     "end_time": "2021-07-10T06:39:55.806541Z",
     "start_time": "2021-07-10T06:39:55.801910Z"
    }
   },
   "outputs": [],
   "source": [
    "outpath = \"output/supplemental_figures_revision/\""
   ]
  },
  {
   "cell_type": "code",
   "execution_count": 2,
   "metadata": {
    "ExecuteTime": {
     "end_time": "2021-07-10T06:32:15.219920Z",
     "start_time": "2021-07-10T06:32:15.207748Z"
    }
   },
   "outputs": [],
   "source": [
    "# first_sets = [set([1]),set([1,2,3]),set([1,4,5,2])]\n",
    "# names = [\"a\",\"b\",\"c\"]\n",
    "\n",
    "def get_input_upset(first_sets, names):\n",
    "  name_dict = {x : n for n, x in zip(names, range(len(names)))}\n",
    "\n",
    "  data = []\n",
    "  sets = []\n",
    "  full_sets = []\n",
    "  # def setup_upset(sets, names):\n",
    "  for i in reversed(range(len(first_sets) + 1)):\n",
    "    perms = combinations(range(len(names)),i)\n",
    "\n",
    "    for p in perms:\n",
    "      sets.append([name_dict[x] for x in p])\n",
    "      complement = [first_sets[x] for x in range(len(names)) if x not in p]\n",
    "      ingroup = [first_sets[x] for x in p]\n",
    "\n",
    "      if len(ingroup) > 0:\n",
    "        temp_set = set.intersection(*ingroup)\n",
    "      else:\n",
    "        temp_set = set()\n",
    "      if len(complement) > 0:\n",
    "        temp_set -= set.union(*complement)\n",
    "      data.append(len(temp_set))\n",
    "      full_sets.append(temp_set)\n",
    "  return sets, data, full_sets\n"
   ]
  },
  {
   "cell_type": "code",
   "execution_count": 13,
   "metadata": {
    "ExecuteTime": {
     "end_time": "2021-07-10T06:35:37.794873Z",
     "start_time": "2021-07-10T06:35:37.789404Z"
    }
   },
   "outputs": [],
   "source": [
    "tenx_datanames = [\"HLCA4_P2_10x_with_postprocessing_lung\", \"HLCA4_P3_10x_with_postprocessing_lung\"]\n",
    "ss2_datanames = [\"HLCA_smartseq_P2_with_postprocessing\",\"HLCA_smartseq_P3_with_postprocessing\"]\n",
    "\n",
    "tenx_names = [\"Ind. 1 10x\", \"Ind. 2 10x\"]\n",
    "ss2_names = [\"Ind. 1 SS2\", \"Ind. 2 SS2\"]"
   ]
  },
  {
   "cell_type": "code",
   "execution_count": 4,
   "metadata": {
    "ExecuteTime": {
     "end_time": "2021-07-10T06:32:15.297017Z",
     "start_time": "2021-07-10T06:32:15.267989Z"
    }
   },
   "outputs": [],
   "source": [
    "inpath = \"../data/\""
   ]
  },
  {
   "cell_type": "markdown",
   "metadata": {},
   "source": [
    "# number of cell types for each technology"
   ]
  },
  {
   "cell_type": "code",
   "execution_count": 5,
   "metadata": {
    "ExecuteTime": {
     "end_time": "2021-07-10T06:32:55.712354Z",
     "start_time": "2021-07-10T06:32:26.132153Z"
    }
   },
   "outputs": [
    {
     "name": "stderr",
     "output_type": "stream",
     "text": [
      "100%|██████████| 2/2 [00:29<00:00, 14.78s/it]\n"
     ]
    }
   ],
   "source": [
    "tenx_freeann = set()\n",
    "tenx_freeann_sets = []\n",
    "for tenx_dataname in tqdm(tenx_datanames):\n",
    "  df = pd.read_parquet(inpath + tenx_dataname + \".pq\",columns=[\"free_annotation\"])\n",
    "  tenx_freeann.update(df[\"free_annotation\"])\n",
    "  tenx_freeann_sets.append(set(df[\"free_annotation\"]))"
   ]
  },
  {
   "cell_type": "code",
   "execution_count": 6,
   "metadata": {
    "ExecuteTime": {
     "end_time": "2021-07-10T06:33:08.796298Z",
     "start_time": "2021-07-10T06:32:55.746668Z"
    }
   },
   "outputs": [
    {
     "name": "stderr",
     "output_type": "stream",
     "text": [
      "100%|██████████| 2/2 [00:13<00:00,  6.52s/it]\n"
     ]
    }
   ],
   "source": [
    "ss2_freeann_sets = []\n",
    "ss2_freeann = set()\n",
    "for ss2_dataname in tqdm(ss2_datanames):\n",
    "  df = pd.read_parquet(inpath + ss2_dataname + \".pq\",columns=[\"free_annotation\"])\n",
    "  ss2_freeann.update(df[\"free_annotation\"])\n",
    "  ss2_freeann_sets.append(set(df[\"free_annotation\"]))"
   ]
  },
  {
   "cell_type": "code",
   "execution_count": 7,
   "metadata": {
    "ExecuteTime": {
     "end_time": "2021-07-10T06:33:08.812287Z",
     "start_time": "2021-07-10T06:33:08.808645Z"
    }
   },
   "outputs": [
    {
     "name": "stdout",
     "output_type": "stream",
     "text": [
      "num 10x: 55\n",
      "num ss2: 39\n",
      "len inter: 37\n"
     ]
    }
   ],
   "source": [
    "print(\"num 10x: {}\\nnum ss2: {}\\nlen inter: {}\".format(len(tenx_freeann), len(ss2_freeann), len(tenx_freeann.intersection(ss2_freeann))))"
   ]
  },
  {
   "cell_type": "code",
   "execution_count": 15,
   "metadata": {
    "ExecuteTime": {
     "end_time": "2021-07-10T06:35:46.506458Z",
     "start_time": "2021-07-10T06:35:46.501132Z"
    }
   },
   "outputs": [],
   "source": [
    "sets, data, full_sets = get_input_upset(tenx_freeann_sets + ss2_freeann_sets, tenx_names + ss2_names)"
   ]
  },
  {
   "cell_type": "code",
   "execution_count": 22,
   "metadata": {
    "ExecuteTime": {
     "end_time": "2021-07-10T06:40:00.926410Z",
     "start_time": "2021-07-10T06:40:00.170991Z"
    }
   },
   "outputs": [
    {
     "data": {
      "image/png": "[encoded data removed]",
      "text/plain": [
       "<Figure size 604.375x320 with 4 Axes>"
      ]
     },
     "metadata": {
      "needs_background": "light"
     },
     "output_type": "display_data"
    }
   ],
   "source": [
    "upset_input = upsetplot.from_memberships(sets[:-1],data=data[:-1])\n",
    "upsetplot.plot(upset_input)\n",
    "# plt.yscale(\"log\")\n",
    "plt.title(\"Number of cell types in each dataset\")\n",
    "plt.savefig(\"{}num_celltypes_upset.pdf\".format(outpath),format=\"pdf\")\n",
    "plt.show()"
   ]
  },
  {
   "cell_type": "markdown",
   "metadata": {},
   "source": [
    "## number of junctions"
   ]
  },
  {
   "cell_type": "code",
   "execution_count": 23,
   "metadata": {
    "ExecuteTime": {
     "end_time": "2021-07-10T06:41:34.525334Z",
     "start_time": "2021-07-10T06:41:29.244571Z"
    }
   },
   "outputs": [
    {
     "name": "stderr",
     "output_type": "stream",
     "text": [
      "100%|██████████| 2/2 [00:05<00:00,  2.63s/it]\n"
     ]
    }
   ],
   "source": [
    "inpath2 = \"../scripts/output/rijk_zscore/\"\n",
    "tenx_junctions = set()\n",
    "tenx_junction_sets = []\n",
    "for tenx_dataname in tqdm(tenx_datanames):\n",
    "  df = pd.read_parquet(inpath2 + tenx_dataname + \"_sym_SVD_normdonor_S_0.1_z_0.0_b_5.pq\",columns=[\"refName_newR1\"])\n",
    "  tenx_junction_sets.append(set(df[\"refName_newR1\"]))\n",
    "  tenx_junctions.update(df[\"refName_newR1\"])\n",
    "#   break"
   ]
  },
  {
   "cell_type": "code",
   "execution_count": 24,
   "metadata": {
    "ExecuteTime": {
     "end_time": "2021-07-10T06:41:55.337643Z",
     "start_time": "2021-07-10T06:41:34.888190Z"
    }
   },
   "outputs": [
    {
     "name": "stderr",
     "output_type": "stream",
     "text": [
      "100%|██████████| 2/2 [00:20<00:00, 10.22s/it]\n"
     ]
    }
   ],
   "source": [
    "ss2_junction_sets = []\n",
    "ss2_junctions = set()\n",
    "for ss2_dataname in tqdm(ss2_datanames):\n",
    "  df = pd.read_parquet(inpath2 + ss2_dataname + \"_sym_SVD_normdonor_S_0.1_z_0.0_b_5.pq\",columns=[\"refName_newR1\"])\n",
    "  ss2_junctions.update(df[\"refName_newR1\"])\n",
    "  ss2_junction_sets.append(set(df[\"refName_newR1\"]))"
   ]
  },
  {
   "cell_type": "code",
   "execution_count": 25,
   "metadata": {
    "ExecuteTime": {
     "end_time": "2021-07-10T06:41:55.897070Z",
     "start_time": "2021-07-10T06:41:55.887223Z"
    }
   },
   "outputs": [
    {
     "name": "stdout",
     "output_type": "stream",
     "text": [
      "num 10x: 25129\n",
      "num ss2: 443987\n",
      "len inter: 15547\n"
     ]
    }
   ],
   "source": [
    "print(\"num 10x: {}\\nnum ss2: {}\\nlen inter: {}\".format(len(tenx_junctions), len(ss2_junctions), len(tenx_junctions.intersection(ss2_junctions))))"
   ]
  },
  {
   "cell_type": "code",
   "execution_count": 26,
   "metadata": {
    "ExecuteTime": {
     "end_time": "2021-07-10T06:41:57.328942Z",
     "start_time": "2021-07-10T06:41:56.419326Z"
    }
   },
   "outputs": [],
   "source": [
    "sets, data, full_sets = get_input_upset(tenx_junction_sets + ss2_junction_sets, tenx_names + ss2_names)"
   ]
  },
  {
   "cell_type": "code",
   "execution_count": 28,
   "metadata": {
    "ExecuteTime": {
     "end_time": "2021-07-10T06:42:59.148069Z",
     "start_time": "2021-07-10T06:42:58.125348Z"
    }
   },
   "outputs": [
    {
     "data": {
      "image/png": "[encoded data removed]",
      "text/plain": [
       "<Figure size 604.375x320 with 4 Axes>"
      ]
     },
     "metadata": {
      "needs_background": "light"
     },
     "output_type": "display_data"
    }
   ],
   "source": [
    "upset_input = upsetplot.from_memberships(sets[:-1],data=data[:-1])\n",
    "upsetplot.plot(upset_input)\n",
    "plt.yscale(\"log\")\n",
    "plt.title(\"Number of unique junctions in each dataset\")\n",
    "plt.savefig(\"{}num_junctions_upset.pdf\".format(outpath),format=\"pdf\")\n",
    "plt.show()"
   ]
  },
  {
   "cell_type": "markdown",
   "metadata": {},
   "source": [
    "## Number of cells in each dataset"
   ]
  },
  {
   "cell_type": "code",
   "execution_count": 29,
   "metadata": {
    "ExecuteTime": {
     "end_time": "2021-07-10T06:45:24.747326Z",
     "start_time": "2021-07-10T06:44:58.798176Z"
    }
   },
   "outputs": [
    {
     "name": "stderr",
     "output_type": "stream",
     "text": [
      "100%|██████████| 2/2 [00:25<00:00, 12.97s/it]\n"
     ]
    }
   ],
   "source": [
    "num_cells_tenx = []\n",
    "for tenx_dataname in tqdm(tenx_datanames):\n",
    "  df = pd.read_parquet(inpath + tenx_dataname + \".pq\",columns=[\"cell\"])\n",
    "  num_cells_tenx.append(df[\"cell\"].nunique())\n"
   ]
  },
  {
   "cell_type": "code",
   "execution_count": 30,
   "metadata": {
    "ExecuteTime": {
     "end_time": "2021-07-10T06:45:31.225428Z",
     "start_time": "2021-07-10T06:45:25.455040Z"
    }
   },
   "outputs": [
    {
     "name": "stderr",
     "output_type": "stream",
     "text": [
      "100%|██████████| 2/2 [00:05<00:00,  2.88s/it]\n"
     ]
    }
   ],
   "source": [
    "num_cells_ss2 = []\n",
    "for tenx_dataname in tqdm(ss2_datanames):\n",
    "  df = pd.read_parquet(inpath + ss2_dataname + \".pq\",columns=[\"cell\"])\n",
    "  num_cells_ss2.append(df[\"cell\"].nunique())\n"
   ]
  },
  {
   "cell_type": "code",
   "execution_count": 31,
   "metadata": {
    "ExecuteTime": {
     "end_time": "2021-07-10T06:46:01.609644Z",
     "start_time": "2021-07-10T06:46:01.602512Z"
    }
   },
   "outputs": [
    {
     "data": {
      "text/plain": [
       "[28793, 24676]"
      ]
     },
     "execution_count": 31,
     "metadata": {},
     "output_type": "execute_result"
    }
   ],
   "source": [
    "num_cells_tenx"
   ]
  },
  {
   "cell_type": "code",
   "execution_count": 32,
   "metadata": {
    "ExecuteTime": {
     "end_time": "2021-07-10T06:46:04.992608Z",
     "start_time": "2021-07-10T06:46:04.986099Z"
    }
   },
   "outputs": [
    {
     "data": {
      "text/plain": [
       "[2845, 2845]"
      ]
     },
     "execution_count": 32,
     "metadata": {},
     "output_type": "execute_result"
    }
   ],
   "source": [
    "num_cells_ss2"
   ]
  },
  {
   "cell_type": "code",
   "execution_count": 39,
   "metadata": {
    "ExecuteTime": {
     "end_time": "2021-07-10T06:49:04.379748Z",
     "start_time": "2021-07-10T06:49:03.985622Z"
    }
   },
   "outputs": [
    {
     "data": {
      "image/png": "[encoded data removed]",
      "text/plain": [
       "<Figure size 432x288 with 1 Axes>"
      ]
     },
     "metadata": {
      "needs_background": "light"
     },
     "output_type": "display_data"
    }
   ],
   "source": [
    "plt.bar(tenx_names + ss2_names, num_cells_tenx + num_cells_ss2, alpha = 0.4)\n",
    "plt.ylabel(\"number of cells\")\n",
    "plt.title(\"Number of cells in each dataset\")\n",
    "plt.savefig(\"{}num_cells_upset.pdf\".format(outpath),format=\"pdf\")\n",
    "plt.show()"
   ]
  },
  {
   "cell_type": "code",
   "execution_count": null,
   "metadata": {},
   "outputs": [],
   "source": []
  }
 ],
 "metadata": {
  "kernelspec": {
   "display_name": "Python (conda_env)",
   "language": "python",
   "name": "conda_env"
  },
  "language_info": {
   "codemirror_mode": {
    "name": "ipython",
    "version": 3
   },
   "file_extension": ".py",
   "mimetype": "text/x-python",
   "name": "python",
   "nbconvert_exporter": "python",
   "pygments_lexer": "ipython3",
   "version": "3.6.7"
  },
  "varInspector": {
   "cols": {
    "lenName": 16,
    "lenType": 16,
    "lenVar": 40
   },
   "kernels_config": {
    "python": {
     "delete_cmd_postfix": "",
     "delete_cmd_prefix": "del ",
     "library": "var_list.py",
     "varRefreshCmd": "print(var_dic_list())"
    },
    "r": {
     "delete_cmd_postfix": ") ",
     "delete_cmd_prefix": "rm(",
     "library": "var_list.r",
     "varRefreshCmd": "cat(var_dic_list()) "
    }
   },
   "types_to_exclude": [
    "module",
    "function",
    "builtin_function_or_method",
    "instance",
    "_Feature"
   ],
   "window_display": false
  }
 },
 "nbformat": 4,
 "nbformat_minor": 4
}
